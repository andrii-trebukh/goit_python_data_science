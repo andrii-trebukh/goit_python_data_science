{
 "cells": [
  {
   "cell_type": "code",
   "execution_count": 1,
   "metadata": {},
   "outputs": [
    {
     "data": {
      "text/plain": [
       "array([0, 1, 2, 3, 4, 5, 6, 7, 8, 9])"
      ]
     },
     "execution_count": 1,
     "metadata": {},
     "output_type": "execute_result"
    }
   ],
   "source": [
    "import numpy as np\n",
    "\n",
    "\n",
    "# 1\n",
    "a = np.arange(10)\n",
    "a"
   ]
  },
  {
   "cell_type": "code",
   "execution_count": 2,
   "metadata": {},
   "outputs": [
    {
     "data": {
      "text/plain": [
       "array([[0, 0, 0],\n",
       "       [0, 0, 0],\n",
       "       [0, 0, 0]], dtype=uint32)"
      ]
     },
     "execution_count": 2,
     "metadata": {},
     "output_type": "execute_result"
    }
   ],
   "source": [
    "# 2\n",
    "a = np.zeros((3, 3), dtype=np.uint32)\n",
    "a"
   ]
  },
  {
   "cell_type": "code",
   "execution_count": 3,
   "metadata": {},
   "outputs": [
    {
     "data": {
      "text/plain": [
       "array([[2, 9, 2, 5, 8],\n",
       "       [2, 3, 4, 6, 8],\n",
       "       [3, 6, 4, 9, 6],\n",
       "       [5, 1, 5, 7, 7],\n",
       "       [3, 6, 6, 3, 8]])"
      ]
     },
     "execution_count": 3,
     "metadata": {},
     "output_type": "execute_result"
    }
   ],
   "source": [
    "# 3\n",
    "a = np.random.randint(1, 10, (5, 5))\n",
    "a"
   ]
  },
  {
   "cell_type": "code",
   "execution_count": 4,
   "metadata": {},
   "outputs": [
    {
     "data": {
      "text/plain": [
       "array([[0.26830076, 0.85866606, 0.50348308, 0.19372267],\n",
       "       [0.85088535, 0.14611054, 0.80532549, 0.67745395],\n",
       "       [0.24586596, 0.72497964, 0.97911771, 0.51869296],\n",
       "       [0.23512304, 0.59486207, 0.18319091, 0.63708479]])"
      ]
     },
     "execution_count": 4,
     "metadata": {},
     "output_type": "execute_result"
    }
   ],
   "source": [
    "# 4\n",
    "a = np.random.random((4, 4))\n",
    "a"
   ]
  },
  {
   "cell_type": "code",
   "execution_count": 5,
   "metadata": {},
   "outputs": [
    {
     "name": "stdout",
     "output_type": "stream",
     "text": [
      "[3 5 9 2 9]\n",
      "[6 6 9 8 7]\n",
      "[18 30 81 16 63]\n",
      "[-3 -1  0 -6  2]\n",
      "[0.5        0.83333333 1.         0.25       1.28571429]\n"
     ]
    }
   ],
   "source": [
    "# 5\n",
    "a = np.random.randint(1, 10, 5)\n",
    "b = np.random.randint(1, 10, 5)\n",
    "\n",
    "print(a)\n",
    "print(b)\n",
    "\n",
    "print(a * b)\n",
    "print(a - b)\n",
    "print(a / b)"
   ]
  },
  {
   "cell_type": "code",
   "execution_count": 6,
   "metadata": {},
   "outputs": [
    {
     "name": "stdout",
     "output_type": "stream",
     "text": [
      "[2 9 5 4 3 9 2]\n",
      "[7 1 8 2 3 7 4]\n",
      "151\n"
     ]
    }
   ],
   "source": [
    "# 6\n",
    "a = np.random.randint(1, 10, 7)\n",
    "b = np.random.randint(1, 10, 7)\n",
    "\n",
    "print(a)\n",
    "print(b)\n",
    "\n",
    "print(np.dot(a, b))"
   ]
  },
  {
   "cell_type": "code",
   "execution_count": 7,
   "metadata": {},
   "outputs": [
    {
     "name": "stdout",
     "output_type": "stream",
     "text": [
      "[[5 3]\n",
      " [4 3]]\n",
      "[[8 8 8]\n",
      " [3 6 5]]\n",
      "[[49 58 55]\n",
      " [41 50 47]]\n"
     ]
    }
   ],
   "source": [
    "# 7\n",
    "a = np.random.randint(1, 10, (2, 2))\n",
    "b = np.random.randint(1, 10, (2, 3))\n",
    "\n",
    "print(a)\n",
    "print(b)\n",
    "\n",
    "print(np.dot(a, b))"
   ]
  },
  {
   "cell_type": "code",
   "execution_count": 8,
   "metadata": {},
   "outputs": [
    {
     "name": "stdout",
     "output_type": "stream",
     "text": [
      "[[3 5 1]\n",
      " [9 2 4]\n",
      " [6 1 3]]\n",
      "[[-0.16666667  1.16666667 -1.5       ]\n",
      " [ 0.25       -0.25        0.25      ]\n",
      " [ 0.25       -2.25        3.25      ]]\n"
     ]
    }
   ],
   "source": [
    "# 8\n",
    "a = np.random.randint(1, 10, (3, 3))\n",
    "\n",
    "print(a)\n",
    "\n",
    "print(np.linalg.inv(a))"
   ]
  },
  {
   "cell_type": "code",
   "execution_count": 9,
   "metadata": {},
   "outputs": [
    {
     "name": "stdout",
     "output_type": "stream",
     "text": [
      "[[0.94043127 0.75777006 0.16406138 0.54412608]\n",
      " [0.44776669 0.45075977 0.60035361 0.83155331]\n",
      " [0.67012761 0.2967062  0.76488284 0.06365044]\n",
      " [0.00173173 0.55361041 0.23103964 0.86611717]]\n",
      "[[0.94043127 0.44776669 0.67012761 0.00173173]\n",
      " [0.75777006 0.45075977 0.2967062  0.55361041]\n",
      " [0.16406138 0.60035361 0.76488284 0.23103964]\n",
      " [0.54412608 0.83155331 0.06365044 0.86611717]]\n"
     ]
    }
   ],
   "source": [
    "# 9\n",
    "a = np.random.random((4, 4))\n",
    "\n",
    "print(a)\n",
    "\n",
    "print(a.T)"
   ]
  },
  {
   "cell_type": "code",
   "execution_count": 10,
   "metadata": {},
   "outputs": [
    {
     "name": "stdout",
     "output_type": "stream",
     "text": [
      "[[9 7 4 9]\n",
      " [8 7 1 6]\n",
      " [9 5 4 4]]\n",
      "[6 3 3 1]\n",
      "[96 78 85]\n"
     ]
    }
   ],
   "source": [
    "# 10\n",
    "a = np.random.randint(1, 10, (3, 4))\n",
    "b = np.random.randint(1, 10, 4)\n",
    "\n",
    "print(a)\n",
    "print(b)\n",
    "\n",
    "print(np.dot(a, b))"
   ]
  },
  {
   "cell_type": "code",
   "execution_count": 11,
   "metadata": {},
   "outputs": [
    {
     "name": "stdout",
     "output_type": "stream",
     "text": [
      "[[0.0385998  0.28154154 0.45629738]\n",
      " [0.46161974 0.16516922 0.59621193]]\n",
      "[0.2008524  0.01828393 0.59667341]\n",
      "[0.28516106 0.45148118]\n"
     ]
    }
   ],
   "source": [
    "# 11\n",
    "a = np.random.random((2, 3))\n",
    "b = np.random.random(3)\n",
    "\n",
    "print(a)\n",
    "print(b)\n",
    "\n",
    "print(np.dot(a, b))"
   ]
  },
  {
   "cell_type": "code",
   "execution_count": 12,
   "metadata": {},
   "outputs": [
    {
     "name": "stdout",
     "output_type": "stream",
     "text": [
      "[[5 4]\n",
      " [3 7]]\n",
      "[[3 1]\n",
      " [5 7]]\n",
      "[[15  4]\n",
      " [15 49]]\n"
     ]
    }
   ],
   "source": [
    "# 12\n",
    "a = np.random.randint(1, 10, (2, 2))\n",
    "b = np.random.randint(1, 10, (2, 2))\n",
    "\n",
    "print(a)\n",
    "print(b)\n",
    "\n",
    "print(a * b)"
   ]
  },
  {
   "cell_type": "code",
   "execution_count": 13,
   "metadata": {},
   "outputs": [
    {
     "name": "stdout",
     "output_type": "stream",
     "text": [
      "[[8 7]\n",
      " [1 9]]\n",
      "[[9 6]\n",
      " [5 4]]\n",
      "[[107  76]\n",
      " [ 54  42]]\n"
     ]
    }
   ],
   "source": [
    "#13\n",
    "a = np.random.randint(1, 10, (2, 2))\n",
    "b = np.random.randint(1, 10, (2, 2))\n",
    "\n",
    "print(a)\n",
    "print(b)\n",
    "\n",
    "print(np.dot(a, b))"
   ]
  },
  {
   "cell_type": "code",
   "execution_count": 14,
   "metadata": {},
   "outputs": [
    {
     "name": "stdout",
     "output_type": "stream",
     "text": [
      "[[91 93  5 43 58]\n",
      " [21  5 66 85 25]\n",
      " [41 13 97 60 77]\n",
      " [48  8 98 52 69]\n",
      " [24 29 15  8 82]]\n",
      "1213\n"
     ]
    }
   ],
   "source": [
    "#14\n",
    "a = np.random.randint(1, 100, (5, 5))\n",
    "\n",
    "print(a)\n",
    "\n",
    "print(a.sum())"
   ]
  },
  {
   "cell_type": "code",
   "execution_count": 15,
   "metadata": {},
   "outputs": [
    {
     "name": "stdout",
     "output_type": "stream",
     "text": [
      "[[4 2 2 6]\n",
      " [9 1 4 9]\n",
      " [2 2 5 8]\n",
      " [9 7 2 3]]\n",
      "[[9 2 2 2]\n",
      " [2 3 4 1]\n",
      " [7 3 7 6]\n",
      " [9 2 9 4]]\n",
      "[[-5  0  0  4]\n",
      " [ 7 -2  0  8]\n",
      " [-5 -1 -2  2]\n",
      " [ 0  5 -7 -1]]\n"
     ]
    }
   ],
   "source": [
    "#15\n",
    "a = np.random.randint(1, 10, (4, 4))\n",
    "b = np.random.randint(1, 10, (4, 4))\n",
    "\n",
    "print(a)\n",
    "print(b)\n",
    "\n",
    "print(a - b)"
   ]
  },
  {
   "cell_type": "code",
   "execution_count": 16,
   "metadata": {},
   "outputs": [
    {
     "name": "stdout",
     "output_type": "stream",
     "text": [
      "[[0.36914554 0.3974092  0.27439266]\n",
      " [0.87544243 0.93023744 0.77425558]\n",
      " [0.80588995 0.02499589 0.52455008]]\n",
      "[1.0409474  2.57993545 1.35543591]\n"
     ]
    }
   ],
   "source": [
    "# 16\n",
    "a = np.random.random((3, 3))\n",
    "\n",
    "print(a)\n",
    "\n",
    "print(a.sum(axis=1))"
   ]
  },
  {
   "cell_type": "code",
   "execution_count": 17,
   "metadata": {},
   "outputs": [
    {
     "name": "stdout",
     "output_type": "stream",
     "text": [
      "[[47 71 41 31]\n",
      " [44 83 91 57]\n",
      " [27 83 61 17]]\n",
      "[[2209 5041 1681  961]\n",
      " [1936 6889 8281 3249]\n",
      " [ 729 6889 3721  289]]\n"
     ]
    }
   ],
   "source": [
    "# 17\n",
    "a = np.random.randint(1, 100, (3, 4))\n",
    "\n",
    "print(a)\n",
    "\n",
    "print(np.square(a))"
   ]
  },
  {
   "cell_type": "code",
   "execution_count": 18,
   "metadata": {},
   "outputs": [
    {
     "name": "stdout",
     "output_type": "stream",
     "text": [
      "[[11 39 47 21]\n",
      " [20 15 33 48]\n",
      " [18 10 37 16]]\n",
      "[[3.31662479 6.244998   6.8556546  4.58257569]\n",
      " [4.47213595 3.87298335 5.74456265 6.92820323]\n",
      " [4.24264069 3.16227766 6.08276253 4.        ]]\n"
     ]
    }
   ],
   "source": [
    "# 18\n",
    "a = np.random.randint(1, 50, size=(3, 4))\n",
    "\n",
    "print(a)\n",
    "\n",
    "print(np.sqrt(a))"
   ]
  }
 ],
 "metadata": {
  "kernelspec": {
   "display_name": "Python 3",
   "language": "python",
   "name": "python3"
  },
  "language_info": {
   "codemirror_mode": {
    "name": "ipython",
    "version": 3
   },
   "file_extension": ".py",
   "mimetype": "text/x-python",
   "name": "python",
   "nbconvert_exporter": "python",
   "pygments_lexer": "ipython3",
   "version": "3.12.3"
  }
 },
 "nbformat": 4,
 "nbformat_minor": 2
}
