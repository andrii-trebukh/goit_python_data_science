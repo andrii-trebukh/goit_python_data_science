{
 "cells": [
  {
   "cell_type": "code",
   "execution_count": 1,
   "metadata": {},
   "outputs": [],
   "source": [
    "from surprise import Dataset, SVD, SVDpp, NMF\n",
    "from surprise.model_selection import cross_validate, GridSearchCV\n"
   ]
  },
  {
   "cell_type": "code",
   "execution_count": 2,
   "metadata": {},
   "outputs": [
    {
     "name": "stdout",
     "output_type": "stream",
     "text": [
      "Evaluating RMSE, MAE of algorithm SVD on 5 split(s).\n",
      "\n",
      "                  Fold 1  Fold 2  Fold 3  Fold 4  Fold 5  Mean    Std     \n",
      "RMSE (testset)    0.9321  0.9396  0.9357  0.9339  0.9399  0.9363  0.0031  \n",
      "MAE (testset)     0.7363  0.7407  0.7365  0.7359  0.7408  0.7380  0.0022  \n",
      "Fit time          1.00    1.19    1.11    1.05    1.01    1.07    0.07    \n",
      "Test time         0.30    0.23    0.24    0.19    0.16    0.22    0.05    \n"
     ]
    },
    {
     "data": {
      "text/plain": [
       "{'test_rmse': array([0.93214979, 0.93957071, 0.93574921, 0.93394027, 0.93994682]),\n",
       " 'test_mae': array([0.73625688, 0.74069726, 0.73649147, 0.73585409, 0.74076342]),\n",
       " 'fit_time': (0.9961390495300293,\n",
       "  1.19187593460083,\n",
       "  1.1109328269958496,\n",
       "  1.051797866821289,\n",
       "  1.013418197631836),\n",
       " 'test_time': (0.3006935119628906,\n",
       "  0.2315220832824707,\n",
       "  0.23623418807983398,\n",
       "  0.1925945281982422,\n",
       "  0.16035246849060059)}"
      ]
     },
     "execution_count": 2,
     "metadata": {},
     "output_type": "execute_result"
    }
   ],
   "source": [
    "# Завантажимо датасет, створимо модель та виконаємо кросвалідацію з розбивкою\n",
    "# датасету на 5 фрагментів. Для цього візьмемо приклад з документації:\n",
    "\n",
    "\n",
    "# Load the movielens-100k dataset (download it if needed),\n",
    "data = Dataset.load_builtin(\"ml-100k\")\n",
    "\n",
    "# We'll use the famous SVD algorithm.\n",
    "algo = SVD()\n",
    "\n",
    "# Run 5-fold cross-validation and print results\n",
    "cross_validate(algo, data, measures=[\"RMSE\", \"MAE\"], cv=5, verbose=True, n_jobs=-1)\n",
    "\n",
    "# Наче все працює. Модель створена, отримані результати. Оцінка результатів проводиться по метрикам RMSE та MAE"
   ]
  },
  {
   "cell_type": "code",
   "execution_count": 3,
   "metadata": {},
   "outputs": [
    {
     "name": "stdout",
     "output_type": "stream",
     "text": [
      "0.9316860957811859\n",
      "{'n_factors': 10, 'n_epochs': 30}\n"
     ]
    }
   ],
   "source": [
    "# Для вивчення впливу параметрів на роботу алгоритму скористаємось GridSearchCV.\n",
    "# Дослідимо вплив наступних параметрів: n_factors, n_epochs\n",
    "\n",
    "\n",
    "param_grid = {\"n_factors\": range(10, 101, 10),\n",
    "              \"n_epochs\": range(20, 51, 10)\n",
    "}\n",
    "\n",
    "gs = GridSearchCV(SVD, param_grid, measures=[\"rmse\", \"mae\"], cv=5, n_jobs=-1)\n",
    "\n",
    "gs.fit(data)\n",
    "\n",
    "# best RMSE score\n",
    "print(gs.best_score[\"rmse\"])\n",
    "\n",
    "# combination of parameters that gave the best RMSE score\n",
    "print(gs.best_params[\"rmse\"])\n",
    "\n",
    "# Бачимо, що найкращий результат отримано при кількості епох 30, кількості факторів 10."
   ]
  },
  {
   "cell_type": "code",
   "execution_count": 4,
   "metadata": {},
   "outputs": [
    {
     "name": "stdout",
     "output_type": "stream",
     "text": [
      "0.9185048232085323\n",
      "{'n_factors': 10, 'n_epochs': 20}\n"
     ]
    }
   ],
   "source": [
    "# По аналогії, скористаємось GridSearchCV для дослідження інших алгоритмів:\n",
    "# SVD++:\n",
    "\n",
    "param_grid = {\"n_factors\": range(10, 31, 5),\n",
    "              \"n_epochs\": range(10, 31, 10)\n",
    "}\n",
    "\n",
    "gs = GridSearchCV(SVDpp, param_grid, measures=[\"rmse\", \"mae\"], cv=5, n_jobs=-1)\n",
    "\n",
    "gs.fit(data)\n",
    "\n",
    "# best RMSE score\n",
    "print(gs.best_score[\"rmse\"])\n",
    "\n",
    "# combination of parameters that gave the best RMSE score\n",
    "print(gs.best_params[\"rmse\"])\n"
   ]
  },
  {
   "cell_type": "code",
   "execution_count": 5,
   "metadata": {},
   "outputs": [
    {
     "name": "stdout",
     "output_type": "stream",
     "text": [
      "0.9497084560656056\n",
      "{'n_factors': 40, 'n_epochs': 70}\n"
     ]
    }
   ],
   "source": [
    "# NMF:\n",
    "\n",
    "param_grid = {\"n_factors\": range(5, 41, 5),\n",
    "              \"n_epochs\": range(30, 71, 10)\n",
    "}\n",
    "\n",
    "gs = GridSearchCV(NMF, param_grid, measures=[\"rmse\", \"mae\"], cv=5, n_jobs=-1)\n",
    "\n",
    "gs.fit(data)\n",
    "\n",
    "# best RMSE score\n",
    "print(gs.best_score[\"rmse\"])\n",
    "\n",
    "# combination of parameters that gave the best RMSE score\n",
    "print(gs.best_params[\"rmse\"])\n"
   ]
  },
  {
   "cell_type": "code",
   "execution_count": 6,
   "metadata": {},
   "outputs": [],
   "source": [
    "# Висновок: алгоритм SVD++  при кількості епох 20, кількості факторів 10 забезпечив\n",
    "# кращий результат. Алгоритми SVD та NMF забезпечили порівняний результат,\n",
    "# але при формальному порівнянні по метриці RMSE видали гірший результат."
   ]
  }
 ],
 "metadata": {
  "kernelspec": {
   "display_name": "Python 3",
   "language": "python",
   "name": "python3"
  },
  "language_info": {
   "codemirror_mode": {
    "name": "ipython",
    "version": 3
   },
   "file_extension": ".py",
   "mimetype": "text/x-python",
   "name": "python",
   "nbconvert_exporter": "python",
   "pygments_lexer": "ipython3",
   "version": "3.12.4"
  }
 },
 "nbformat": 4,
 "nbformat_minor": 2
}
