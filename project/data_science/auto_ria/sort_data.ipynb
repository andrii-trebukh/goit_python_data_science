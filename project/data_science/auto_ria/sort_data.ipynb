{
 "cells": [
  {
   "cell_type": "code",
   "execution_count": 1,
   "metadata": {},
   "outputs": [],
   "source": [
    "from pathlib import Path\n",
    "import re"
   ]
  },
  {
   "cell_type": "code",
   "execution_count": 39,
   "metadata": {},
   "outputs": [],
   "source": [
    "test_ds_path = Path(\"/home/sims/Projects/keras_cv_modules/test_dataset/auto_ria\")\n",
    "test_ds = []\n",
    "for file in test_ds_path.iterdir():\n",
    "    if file.suffix != \".jpg\":\n",
    "        continue\n",
    "    test_ds.append(file.stem)"
   ]
  },
  {
   "cell_type": "code",
   "execution_count": 32,
   "metadata": {},
   "outputs": [],
   "source": [
    "raw_ds = Path(\"photos3\")\n",
    "raw_dataset = set()\n",
    "for file in raw_ds.iterdir():\n",
    "    # raw_dataset = set(re.sub(r\"\\d\\d \", \"\", file.stem))\n",
    "    raw_dataset.add(re.sub(r\"\\d\\d \", \"\", file.stem))\n"
   ]
  },
  {
   "cell_type": "code",
   "execution_count": 18,
   "metadata": {},
   "outputs": [],
   "source": [
    "raw_ds2 = Path(\"photos\")\n",
    "f_list = [file for file in raw_ds2.iterdir()]\n",
    "r_flist = f_list[:10000]\n",
    "for file in r_flist:\n",
    "    file.rename(f\"photos4/{file.name}\")"
   ]
  },
  {
   "cell_type": "code",
   "execution_count": 12,
   "metadata": {},
   "outputs": [],
   "source": []
  }
 ],
 "metadata": {
  "kernelspec": {
   "display_name": ".env_ria",
   "language": "python",
   "name": "python3"
  },
  "language_info": {
   "codemirror_mode": {
    "name": "ipython",
    "version": 3
   },
   "file_extension": ".py",
   "mimetype": "text/x-python",
   "name": "python",
   "nbconvert_exporter": "python",
   "pygments_lexer": "ipython3",
   "version": "3.12.5"
  }
 },
 "nbformat": 4,
 "nbformat_minor": 2
}
