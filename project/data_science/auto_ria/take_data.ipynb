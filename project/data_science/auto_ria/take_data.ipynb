{
 "cells": [
  {
   "cell_type": "code",
   "execution_count": 55,
   "metadata": {},
   "outputs": [],
   "source": [
    "import requests\n",
    "from bs4 import BeautifulSoup\n",
    "from urllib.request import urlretrieve\n",
    "from pathlib import Path\n",
    "\n"
   ]
  },
  {
   "cell_type": "code",
   "execution_count": 56,
   "metadata": {},
   "outputs": [],
   "source": [
    "test_ds_path = Path(\"/home/sims/Projects/keras_cv_modules/test_dataset/auto_ria\")\n",
    "test_ds = []\n",
    "for file in test_ds_path.iterdir():\n",
    "    if file.suffix != \".jpg\":\n",
    "        continue\n",
    "    test_ds.append(file.stem)\n",
    "\n",
    "\n"
   ]
  },
  {
   "cell_type": "code",
   "execution_count": null,
   "metadata": {},
   "outputs": [],
   "source": [
    "for i in range(1, 100):\n",
    "    print(f\"Current step: {i}\")\n",
    "    url = f'https://auto.ria.com/uk/search/?indexName=auto&plateNumber.length.gte=1&country.import.usa.not=-1&price.currency=1&abroad.not=0&custom.not=1&page={i}&size=100&scrollToAuto=37116047'\n",
    "    response = requests.get(url)\n",
    "    soup = BeautifulSoup(response.text, 'lxml')\n",
    "    items = soup.find_all('section', class_='ticket-item')\n",
    "    for item in items:\n",
    "        try:\n",
    "            sub_url = item.find('a', class_='photo-185x120')[\"href\"]\n",
    "            # print(sub_url)\n",
    "            sub_response = requests.get(sub_url)\n",
    "            sub_item = BeautifulSoup(sub_response.text, 'lxml')\n",
    "            num = sub_item.find(\"span\", class_=\"state-num ua\").text\n",
    "            num = num.replace(\"Ми розпізнали держномер авто на фото та перевірили його за реєстрами МВС.\", \"\").replace(\" \", \"\")\n",
    "        except:\n",
    "            continue\n",
    "        if num in test_ds:\n",
    "            continue\n",
    "        imgs = sub_item.find_all('img', class_='outline m-auto')\n",
    "        imgs = set(img[\"src\"].replace(\"s.jpg\", \"f.jpg\") for img in imgs)\n",
    "\n",
    "        for i, ssub_url in zip(range(len(imgs)), imgs):\n",
    "            name = \"\" if i >= 10 else \"0\"\n",
    "            name += f\"{i} {num}.jpg\"\n",
    "            # print(name)\n",
    "            urlretrieve(ssub_url, f\"photos3/{name}\")\n"
   ]
  }
 ],
 "metadata": {
  "kernelspec": {
   "display_name": ".env_ria",
   "language": "python",
   "name": "python3"
  },
  "language_info": {
   "codemirror_mode": {
    "name": "ipython",
    "version": 3
   },
   "file_extension": ".py",
   "mimetype": "text/x-python",
   "name": "python",
   "nbconvert_exporter": "python",
   "pygments_lexer": "ipython3",
   "version": "3.12.5"
  }
 },
 "nbformat": 4,
 "nbformat_minor": 2
}
