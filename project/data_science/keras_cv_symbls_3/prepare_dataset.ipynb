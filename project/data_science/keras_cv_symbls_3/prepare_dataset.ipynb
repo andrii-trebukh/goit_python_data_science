{
 "cells": [
  {
   "cell_type": "code",
   "execution_count": 2,
   "metadata": {},
   "outputs": [],
   "source": [
    "from pathlib import Path\n",
    "import json\n",
    "from PIL import Image"
   ]
  },
  {
   "cell_type": "code",
   "execution_count": 3,
   "metadata": {},
   "outputs": [],
   "source": [
    "path_ann = Path(\"/media/data/datasets/autoriaNumberplateOcrUa-2023-04-18/test/ann/\")\n",
    "path_img = Path(\"/media/data/datasets/autoriaNumberplateOcrUa-2023-04-18/test/img/\")\n",
    "path_new = Path(\"/media/data/datasets/autoriaNumberplateOcrUa/test/\")\n",
    "\n",
    "\n",
    "annotation_files = [file for file in path_ann.iterdir() if file.suffix == \".json\"]\n",
    "\n",
    "for json_file in annotation_files:\n",
    "    with open(json_file) as jf:\n",
    "        data = json.load(jf)\n",
    "        description = data[\"description\"]\n",
    "        img_file = path_img.joinpath(f\"{data[\"name\"]}.png\")\n",
    "        if not img_file.exists():\n",
    "            continue\n",
    "        new_img_file = path_new.joinpath(f\"{description}.png\")\n",
    "        img_file.rename(new_img_file)\n",
    "        json_file.unlink()\n",
    "    \n",
    "    \n"
   ]
  }
 ],
 "metadata": {
  "kernelspec": {
   "display_name": ".env",
   "language": "python",
   "name": "python3"
  },
  "language_info": {
   "codemirror_mode": {
    "name": "ipython",
    "version": 3
   },
   "file_extension": ".py",
   "mimetype": "text/x-python",
   "name": "python",
   "nbconvert_exporter": "python",
   "pygments_lexer": "ipython3",
   "version": "3.12.5"
  }
 },
 "nbformat": 4,
 "nbformat_minor": 2
}
