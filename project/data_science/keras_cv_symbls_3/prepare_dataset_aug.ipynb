{
 "cells": [
  {
   "cell_type": "code",
   "execution_count": 1,
   "metadata": {},
   "outputs": [],
   "source": [
    "from pathlib import Path\n",
    "import json\n",
    "from PIL import Image\n",
    "import numpy as np\n",
    "import cv2\n",
    "from random import randint"
   ]
  },
  {
   "cell_type": "code",
   "execution_count": 10,
   "metadata": {},
   "outputs": [],
   "source": [
    "path_img = Path(\"/media/data/datasets/autoriaNumberplateOcrUa/train_val/\")\n",
    "path_new = Path(\"/media/data/datasets/autoriaNumberplateOcrUa/augmented/\")\n",
    "\n",
    "img_list = [file for file in path_img.iterdir()]# if file.suffix == \".png\"]\n",
    "augment_rate = 0.35\n",
    "augment_qty = int(len(img_list) * augment_rate)\n",
    "img_augmented = img_list[:augment_qty]\n",
    "img_normal = img_list[augment_qty:]\n",
    "\n",
    "for file in img_augmented:\n",
    "    img = Image.open(file)\n",
    "    margins = 500 # px\n",
    "    img_bg = Image.new(mode=\"RGB\", size=(img.width + margins * 2, img.height + margins * 2), color = 0)\n",
    "    img_bg.paste(img, (margins, margins))\n",
    "    img = np.array(img_bg)\n",
    "    width = img.shape[1]\n",
    "    height = img.shape[0]\n",
    "    # shearY - 0.6; 0.4\n",
    "    transformation_matrix = np.array([[(randint(400, 1000) / 1000), 0, 0], \n",
    "                                    [(randint(-600, 600) / 1000), 1, 0]], dtype=np.float32)\n",
    "    img = cv2.warpAffine(img, transformation_matrix, (width, height))\n",
    "    \n",
    "    non_empty_columns = np.where(img.max(axis=0)>0)[0]\n",
    "    non_empty_rows = np.where(img.max(axis=1)>0)[0]\n",
    "    cropBox = (min(non_empty_rows), max(non_empty_rows), min(non_empty_columns), max(non_empty_columns))\n",
    "\n",
    "    img = img[cropBox[0]:cropBox[1]+1, cropBox[2]:cropBox[3]+1 , :]\n",
    "    img = cv2.cvtColor(img, cv2.COLOR_RGB2BGR)\n",
    "    cv2.imwrite(path_new.joinpath(file.name), img)\n",
    "    # break\n",
    "\n",
    "for file in img_normal:\n",
    "    img = cv2.imread(file)\n",
    "    cv2.imwrite(path_new.joinpath(file.name), img)\n",
    "    # break"
   ]
  }
 ],
 "metadata": {
  "kernelspec": {
   "display_name": ".env",
   "language": "python",
   "name": "python3"
  },
  "language_info": {
   "codemirror_mode": {
    "name": "ipython",
    "version": 3
   },
   "file_extension": ".py",
   "mimetype": "text/x-python",
   "name": "python",
   "nbconvert_exporter": "python",
   "pygments_lexer": "ipython3",
   "version": "3.12.5"
  }
 },
 "nbformat": 4,
 "nbformat_minor": 2
}
